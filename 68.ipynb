{
 "cells": [
  {
   "cell_type": "code",
   "execution_count": 3,
   "metadata": {
    "collapsed": true
   },
   "outputs": [
    {
     "name": "stdout",
     "output_type": "stream",
     "text": [
      "Collecting keras\n",
      "  Downloading keras-2.9.0-py2.py3-none-any.whl (1.6 MB)\n",
      "Installing collected packages: keras\n",
      "Successfully installed keras-2.9.0\n",
      "Note: you may need to restart the kernel to use updated packages.\n"
     ]
    }
   ],
   "source": [
    "pip install keras"
   ]
  },
  {
   "cell_type": "code",
   "execution_count": 5,
   "metadata": {
    "collapsed": true
   },
   "outputs": [
    {
     "name": "stdout",
     "output_type": "stream",
     "text": [
      "Collecting tensorflow\n",
      "  Downloading tensorflow-2.9.1-cp39-cp39-win_amd64.whl (444.0 MB)\n",
      "Collecting google-pasta>=0.1.1\n",
      "  Downloading google_pasta-0.2.0-py3-none-any.whl (57 kB)\n",
      "Collecting keras-preprocessing>=1.1.1\n",
      "  Downloading Keras_Preprocessing-1.1.2-py2.py3-none-any.whl (42 kB)\n",
      "Collecting libclang>=13.0.0\n",
      "  Downloading libclang-14.0.1-py2.py3-none-win_amd64.whl (14.2 MB)\n",
      "Collecting flatbuffers<2,>=1.12\n",
      "  Downloading flatbuffers-1.12-py2.py3-none-any.whl (15 kB)\n",
      "Requirement already satisfied: typing-extensions>=3.6.6 in c:\\users\\vania\\anaconda3\\lib\\site-packages (from tensorflow) (4.1.1)\n",
      "Requirement already satisfied: keras<2.10.0,>=2.9.0rc0 in c:\\users\\vania\\anaconda3\\lib\\site-packages (from tensorflow) (2.9.0)\n",
      "Requirement already satisfied: h5py>=2.9.0 in c:\\users\\vania\\anaconda3\\lib\\site-packages (from tensorflow) (3.6.0)\n",
      "Requirement already satisfied: numpy>=1.20 in c:\\users\\vania\\anaconda3\\lib\\site-packages (from tensorflow) (1.21.5)\n",
      "Requirement already satisfied: grpcio<2.0,>=1.24.3 in c:\\users\\vania\\anaconda3\\lib\\site-packages (from tensorflow) (1.42.0)\n",
      "Collecting opt-einsum>=2.3.2\n",
      "  Downloading opt_einsum-3.3.0-py3-none-any.whl (65 kB)\n",
      "Requirement already satisfied: setuptools in c:\\users\\vania\\anaconda3\\lib\\site-packages (from tensorflow) (61.2.0)\n",
      "Collecting tensorflow-io-gcs-filesystem>=0.23.1\n",
      "  Downloading tensorflow_io_gcs_filesystem-0.26.0-cp39-cp39-win_amd64.whl (1.5 MB)\n",
      "Requirement already satisfied: packaging in c:\\users\\vania\\anaconda3\\lib\\site-packages (from tensorflow) (21.3)\n",
      "Collecting astunparse>=1.6.0\n",
      "  Downloading astunparse-1.6.3-py2.py3-none-any.whl (12 kB)\n",
      "Collecting gast<=0.4.0,>=0.2.1\n",
      "  Downloading gast-0.4.0-py3-none-any.whl (9.8 kB)\n",
      "Requirement already satisfied: protobuf<3.20,>=3.9.2 in c:\\users\\vania\\anaconda3\\lib\\site-packages (from tensorflow) (3.19.1)\n",
      "Collecting absl-py>=1.0.0\n",
      "  Downloading absl_py-1.1.0-py3-none-any.whl (123 kB)\n",
      "Requirement already satisfied: six>=1.12.0 in c:\\users\\vania\\anaconda3\\lib\\site-packages (from tensorflow) (1.16.0)\n",
      "Collecting tensorboard<2.10,>=2.9\n",
      "  Downloading tensorboard-2.9.1-py3-none-any.whl (5.8 MB)\n",
      "Collecting termcolor>=1.1.0\n",
      "  Downloading termcolor-1.1.0.tar.gz (3.9 kB)\n",
      "Requirement already satisfied: wrapt>=1.11.0 in c:\\users\\vania\\anaconda3\\lib\\site-packages (from tensorflow) (1.12.1)\n",
      "Collecting tensorflow-estimator<2.10.0,>=2.9.0rc0\n",
      "  Downloading tensorflow_estimator-2.9.0-py2.py3-none-any.whl (438 kB)\n",
      "Requirement already satisfied: wheel<1.0,>=0.23.0 in c:\\users\\vania\\anaconda3\\lib\\site-packages (from astunparse>=1.6.0->tensorflow) (0.37.1)\n",
      "Collecting tensorboard-plugin-wit>=1.6.0\n",
      "  Downloading tensorboard_plugin_wit-1.8.1-py3-none-any.whl (781 kB)\n",
      "Collecting tensorboard-data-server<0.7.0,>=0.6.0\n",
      "  Downloading tensorboard_data_server-0.6.1-py3-none-any.whl (2.4 kB)\n",
      "Requirement already satisfied: werkzeug>=1.0.1 in c:\\users\\vania\\anaconda3\\lib\\site-packages (from tensorboard<2.10,>=2.9->tensorflow) (2.0.3)\n",
      "Collecting google-auth-oauthlib<0.5,>=0.4.1\n",
      "  Downloading google_auth_oauthlib-0.4.6-py2.py3-none-any.whl (18 kB)\n",
      "Requirement already satisfied: google-auth<3,>=1.6.3 in c:\\users\\vania\\anaconda3\\lib\\site-packages (from tensorboard<2.10,>=2.9->tensorflow) (1.33.0)\n",
      "Requirement already satisfied: markdown>=2.6.8 in c:\\users\\vania\\anaconda3\\lib\\site-packages (from tensorboard<2.10,>=2.9->tensorflow) (3.3.4)\n",
      "Requirement already satisfied: requests<3,>=2.21.0 in c:\\users\\vania\\anaconda3\\lib\\site-packages (from tensorboard<2.10,>=2.9->tensorflow) (2.27.1)\n",
      "Requirement already satisfied: pyasn1-modules>=0.2.1 in c:\\users\\vania\\anaconda3\\lib\\site-packages (from google-auth<3,>=1.6.3->tensorboard<2.10,>=2.9->tensorflow) (0.2.8)\n",
      "Requirement already satisfied: cachetools<5.0,>=2.0.0 in c:\\users\\vania\\anaconda3\\lib\\site-packages (from google-auth<3,>=1.6.3->tensorboard<2.10,>=2.9->tensorflow) (4.2.2)\n",
      "Requirement already satisfied: rsa<5,>=3.1.4 in c:\\users\\vania\\anaconda3\\lib\\site-packages (from google-auth<3,>=1.6.3->tensorboard<2.10,>=2.9->tensorflow) (4.7.2)\n",
      "Collecting requests-oauthlib>=0.7.0\n",
      "  Downloading requests_oauthlib-1.3.1-py2.py3-none-any.whl (23 kB)\n",
      "Requirement already satisfied: pyasn1<0.5.0,>=0.4.6 in c:\\users\\vania\\anaconda3\\lib\\site-packages (from pyasn1-modules>=0.2.1->google-auth<3,>=1.6.3->tensorboard<2.10,>=2.9->tensorflow) (0.4.8)\n",
      "Requirement already satisfied: idna<4,>=2.5 in c:\\users\\vania\\anaconda3\\lib\\site-packages (from requests<3,>=2.21.0->tensorboard<2.10,>=2.9->tensorflow) (3.3)\n",
      "Requirement already satisfied: urllib3<1.27,>=1.21.1 in c:\\users\\vania\\anaconda3\\lib\\site-packages (from requests<3,>=2.21.0->tensorboard<2.10,>=2.9->tensorflow) (1.26.9)\n",
      "Requirement already satisfied: charset-normalizer~=2.0.0 in c:\\users\\vania\\anaconda3\\lib\\site-packages (from requests<3,>=2.21.0->tensorboard<2.10,>=2.9->tensorflow) (2.0.4)\n",
      "Requirement already satisfied: certifi>=2017.4.17 in c:\\users\\vania\\anaconda3\\lib\\site-packages (from requests<3,>=2.21.0->tensorboard<2.10,>=2.9->tensorflow) (2021.10.8)\n",
      "Collecting oauthlib>=3.0.0\n",
      "  Downloading oauthlib-3.2.0-py3-none-any.whl (151 kB)\n",
      "Requirement already satisfied: pyparsing!=3.0.5,>=2.0.2 in c:\\users\\vania\\anaconda3\\lib\\site-packages (from packaging->tensorflow) (3.0.4)\n",
      "Building wheels for collected packages: termcolor\n",
      "  Building wheel for termcolor (setup.py): started\n",
      "  Building wheel for termcolor (setup.py): finished with status 'done'\n",
      "  Created wheel for termcolor: filename=termcolor-1.1.0-py3-none-any.whl size=4848 sha256=9347821a3c4da4ad356c614cec57f689f7b0aad964b8bdad4060b05f062fdee7\n",
      "  Stored in directory: c:\\users\\vania\\appdata\\local\\pip\\cache\\wheels\\b6\\0d\\90\\0d1bbd99855f99cb2f6c2e5ff96f8023fad8ec367695f7d72d\n",
      "Successfully built termcolor\n",
      "Installing collected packages: oauthlib, requests-oauthlib, tensorboard-plugin-wit, tensorboard-data-server, google-auth-oauthlib, absl-py, termcolor, tensorflow-io-gcs-filesystem, tensorflow-estimator, tensorboard, opt-einsum, libclang, keras-preprocessing, google-pasta, gast, flatbuffers, astunparse, tensorflow\n",
      "Successfully installed absl-py-1.1.0 astunparse-1.6.3 flatbuffers-1.12 gast-0.4.0 google-auth-oauthlib-0.4.6 google-pasta-0.2.0 keras-preprocessing-1.1.2 libclang-14.0.1 oauthlib-3.2.0 opt-einsum-3.3.0 requests-oauthlib-1.3.1 tensorboard-2.9.1 tensorboard-data-server-0.6.1 tensorboard-plugin-wit-1.8.1 tensorflow-2.9.1 tensorflow-estimator-2.9.0 tensorflow-io-gcs-filesystem-0.26.0 termcolor-1.1.0\n",
      "Note: you may need to restart the kernel to use updated packages.\n"
     ]
    }
   ],
   "source": [
    "pip install tensorflow"
   ]
  },
  {
   "cell_type": "code",
   "execution_count": 1,
   "metadata": {},
   "outputs": [
    {
     "name": "stdout",
     "output_type": "stream",
     "text": [
      "Requirement already satisfied: opendatasets in c:\\users\\vania\\anaconda3\\lib\\site-packages (0.1.22)\n",
      "Requirement already satisfied: click in c:\\users\\vania\\anaconda3\\lib\\site-packages (from opendatasets) (8.0.4)\n",
      "Requirement already satisfied: kaggle in c:\\users\\vania\\anaconda3\\lib\\site-packages (from opendatasets) (1.5.12)\n",
      "Requirement already satisfied: tqdm in c:\\users\\vania\\anaconda3\\lib\\site-packages (from opendatasets) (4.64.0)\n",
      "Requirement already satisfied: colorama in c:\\users\\vania\\anaconda3\\lib\\site-packages (from click->opendatasets) (0.4.4)\n",
      "Requirement already satisfied: certifi in c:\\users\\vania\\anaconda3\\lib\\site-packages (from kaggle->opendatasets) (2021.10.8)\n",
      "Requirement already satisfied: python-dateutil in c:\\users\\vania\\anaconda3\\lib\\site-packages (from kaggle->opendatasets) (2.8.2)\n",
      "Requirement already satisfied: urllib3 in c:\\users\\vania\\anaconda3\\lib\\site-packages (from kaggle->opendatasets) (1.26.9)\n",
      "Requirement already satisfied: six>=1.10 in c:\\users\\vania\\anaconda3\\lib\\site-packages (from kaggle->opendatasets) (1.16.0)\n",
      "Requirement already satisfied: python-slugify in c:\\users\\vania\\anaconda3\\lib\\site-packages (from kaggle->opendatasets) (5.0.2)\n",
      "Requirement already satisfied: requests in c:\\users\\vania\\anaconda3\\lib\\site-packages (from kaggle->opendatasets) (2.27.1)\n",
      "Requirement already satisfied: text-unidecode>=1.3 in c:\\users\\vania\\anaconda3\\lib\\site-packages (from python-slugify->kaggle->opendatasets) (1.3)\n",
      "Requirement already satisfied: idna<4,>=2.5 in c:\\users\\vania\\anaconda3\\lib\\site-packages (from requests->kaggle->opendatasets) (3.3)\n",
      "Requirement already satisfied: charset-normalizer~=2.0.0 in c:\\users\\vania\\anaconda3\\lib\\site-packages (from requests->kaggle->opendatasets) (2.0.4)\n",
      "Note: you may need to restart the kernel to use updated packages.\n"
     ]
    }
   ],
   "source": [
    "pip install opendatasets"
   ]
  },
  {
   "cell_type": "code",
   "execution_count": 2,
   "metadata": {
    "collapsed": true
   },
   "outputs": [
    {
     "name": "stdout",
     "output_type": "stream",
     "text": [
      "Requirement already satisfied: kaggle in c:\\users\\vania\\anaconda3\\lib\\site-packages (1.5.12)\n",
      "Requirement already satisfied: tqdm in c:\\users\\vania\\anaconda3\\lib\\site-packages (from kaggle) (4.64.0)\n",
      "Requirement already satisfied: python-slugify in c:\\users\\vania\\anaconda3\\lib\\site-packages (from kaggle) (5.0.2)\n",
      "Requirement already satisfied: six>=1.10 in c:\\users\\vania\\anaconda3\\lib\\site-packages (from kaggle) (1.16.0)\n",
      "Requirement already satisfied: python-dateutil in c:\\users\\vania\\anaconda3\\lib\\site-packages (from kaggle) (2.8.2)\n",
      "Requirement already satisfied: requests in c:\\users\\vania\\anaconda3\\lib\\site-packages (from kaggle) (2.27.1)\n",
      "Requirement already satisfied: urllib3 in c:\\users\\vania\\anaconda3\\lib\\site-packages (from kaggle) (1.26.9)\n",
      "Requirement already satisfied: certifi in c:\\users\\vania\\anaconda3\\lib\\site-packages (from kaggle) (2021.10.8)\n",
      "Requirement already satisfied: text-unidecode>=1.3 in c:\\users\\vania\\anaconda3\\lib\\site-packages (from python-slugify->kaggle) (1.3)\n",
      "Requirement already satisfied: idna<4,>=2.5 in c:\\users\\vania\\anaconda3\\lib\\site-packages (from requests->kaggle) (3.3)\n",
      "Requirement already satisfied: charset-normalizer~=2.0.0 in c:\\users\\vania\\anaconda3\\lib\\site-packages (from requests->kaggle) (2.0.4)\n",
      "Requirement already satisfied: colorama in c:\\users\\vania\\anaconda3\\lib\\site-packages (from tqdm->kaggle) (0.4.4)\n",
      "Note: you may need to restart the kernel to use updated packages.\n"
     ]
    }
   ],
   "source": [
    "pip install kaggle"
   ]
  },
  {
   "cell_type": "code",
   "execution_count": 3,
   "metadata": {
    "colab": {
     "base_uri": "https://localhost:8080/",
     "height": 34
    },
    "colab_type": "code",
    "id": "8G11u9kZ3-04",
    "outputId": "43174088-e11d-4528-e4b2-037dffd511ec"
   },
   "outputs": [],
   "source": [
    "import pandas as pd\n",
    "import numpy as np\n",
    "import os\n",
    "import random\n",
    "import keras\n",
    "import matplotlib.pyplot as plt\n",
    "from keras.layers import Dense,GlobalAveragePooling2D\n",
    "from keras.applications import MobileNet\n",
    "from keras.preprocessing import image\n",
    "from keras.applications.mobilenet import preprocess_input\n",
    "from keras.preprocessing.image import ImageDataGenerator\n",
    "from keras.models import Model\n",
    "from keras.optimizers import Adam\n",
    "from keras.callbacks import EarlyStopping\n",
    "from keras.regularizers import l1 , l2\n",
    "\n",
    "import os\n",
    "import numpy as np\n",
    "import shutil\n",
    "import random\n",
    "\n",
    "# file kaggle.json for authentication is in folder .kaggle\n",
    "import kaggle\n",
    "\n",
    "import opendatasets as od"
   ]
  },
  {
   "cell_type": "code",
   "execution_count": 5,
   "metadata": {},
   "outputs": [
    {
     "name": "stdout",
     "output_type": "stream",
     "text": [
      "Please provide your Kaggle credentials to download this dataset. Learn more: http://bit.ly/kaggle-creds\n",
      "Your Kaggle username: vania734\n",
      "Your Kaggle Key: ········\n",
      "Downloading fruits.zip to .\\fruits\n"
     ]
    },
    {
     "name": "stderr",
     "output_type": "stream",
     "text": [
      "100%|██████████| 1.28G/1.28G [05:18<00:00, 4.33MB/s]\n"
     ]
    },
    {
     "name": "stdout",
     "output_type": "stream",
     "text": [
      "\n"
     ]
    }
   ],
   "source": [
    "#downloads fruits data set\n",
    "od.download(\"https://www.kaggle.com/datasets/moltean/fruits\")"
   ]
  },
  {
   "cell_type": "code",
   "execution_count": 15,
   "metadata": {},
   "outputs": [
    {
     "name": "stdout",
     "output_type": "stream",
     "text": [
      "^C\n"
     ]
    }
   ],
   "source": [
    "#download fruits data set\n",
    "!kaggle datasets download --force -d moltean/fruits"
   ]
  },
  {
   "cell_type": "code",
   "execution_count": 6,
   "metadata": {},
   "outputs": [
    {
     "name": "stderr",
     "output_type": "stream",
     "text": [
      "A subdirectory or file kaggle already exists.\n"
     ]
    }
   ],
   "source": [
    "# create a directory named 'kaggle'\n",
    "!mkdir kaggle\n"
   ]
  },
  {
   "cell_type": "code",
   "execution_count": 7,
   "metadata": {
    "colab": {
     "base_uri": "https://localhost:8080/",
     "height": 122
    },
    "colab_type": "code",
    "id": "pP4bQTyL3r6n",
    "outputId": "83c9abdd-04bc-4f4e-b992-fbf08a82a7e9"
   },
   "outputs": [
    {
     "name": "stderr",
     "output_type": "stream",
     "text": [
      "The syntax of the command is incorrect.\n",
      "'cp' is not recognized as an internal or external command,\n",
      "operable program or batch file.\n"
     ]
    },
    {
     "name": "stdout",
     "output_type": "stream",
     "text": [
      "401 - Unauthorized\n"
     ]
    },
    {
     "name": "stderr",
     "output_type": "stream",
     "text": [
      "'ls' is not recognized as an internal or external command,\n",
      "operable program or batch file.\n"
     ]
    }
   ],
   "source": [
    "# DELETE \n",
    "#this section of code downloads the dataset from kaggle\n",
    "\n",
    "!pip install -U -q kaggle\n",
    "!mkdir -p ~/.kaggle\n",
    "!cp kaggle.json ~/.kaggle/\n",
    "!kaggle datasets download -d moltean/fruits\n",
    "!ls "
   ]
  },
  {
   "cell_type": "code",
   "execution_count": 9,
   "metadata": {
    "colab": {
     "base_uri": "https://localhost:8080/",
     "height": 34
    },
    "colab_type": "code",
    "id": "VS-RqDLB3xcc",
    "outputId": "d21e2549-28f6-47f5-d0af-55640f69fca9"
   },
   "outputs": [
    {
     "name": "stderr",
     "output_type": "stream",
     "text": [
      "'unzip' is not recognized as an internal or external command,\n",
      "operable program or batch file.\n",
      "'ls' is not recognized as an internal or external command,\n",
      "operable program or batch file.\n"
     ]
    }
   ],
   "source": [
    "#Unzips the data\n",
    "\n",
    "!unzip -q \"fruits.zip\"\n",
    "!ls"
   ]
  },
  {
   "cell_type": "code",
   "execution_count": 9,
   "metadata": {},
   "outputs": [
    {
     "name": "stderr",
     "output_type": "stream",
     "text": [
      "fruits-360-original-size/fruits-360-original-size/Test/apple_red_1/r1_299.jpg: ZIP decompression failed (-5)\n",
      "tar: Error exit delayed from previous errors.\n"
     ]
    }
   ],
   "source": [
    "!tar -xf \"fruits.zip\""
   ]
  },
  {
   "cell_type": "code",
   "execution_count": null,
   "metadata": {
    "colab": {
     "base_uri": "https://localhost:8080/",
     "height": 51
    },
    "colab_type": "code",
    "id": "dgJECXYE30Oo",
    "outputId": "0b68d8b7-e90f-412c-f8f5-306d7a0eb314"
   },
   "outputs": [],
   "source": [
    "#Creats the Fiolders for the new dataset with 4 classes, apple, orange, lemon and pear\n",
    "#The dataset will be divided into train validation and test set.\n",
    "\n",
    "\n",
    "!mkdir NewDataSet\n",
    "!mkdir NewDataSet\\Train\n",
    "!mkdir NewDataSet\\Test\n",
    "!mkdir NewDataSet\\Validation\n",
    "!mkdir NewDataSet\\Train\\Apple\n",
    "!mkdir NewDataSet\\Train\\Lemon\n",
    "!mkdir NewDataSet\\Train\\Orange\n",
    "!mkdir NewDataSet\\Train\\Pear\n",
    "!mkdir NewDataSet\\Test\\Apple\n",
    "!mkdir NewDataSet\\Test\\Lemon\n",
    "!mkdir NewDataSet\\Test\\Orange\n",
    "!mkdir NewDataSet\\Test\\Pear\n",
    "!mkdir NewDataSet\\Validation\\Apple\n",
    "!mkdir NewDataSet\\Validation\\Lemon\n",
    "!mkdir NewDataSet\\Validation\\Orange\n",
    "!mkdir NewDataSet\\Validation\\Pear\n",
    "\n"
   ]
  },
  {
   "cell_type": "code",
   "execution_count": 0,
   "metadata": {
    "colab": {
     "base_uri": "https://localhost:8080/",
     "height": 231
    },
    "colab_type": "code",
    "id": "eHhmonFo32r_",
    "outputId": "5123127f-234d-401b-dd1d-23a045e04dbf"
   },
   "outputs": [
    {
     "ename": "NameError",
     "evalue": "ignored",
     "output_type": "error",
     "traceback": [
      "\u001b[0;31m---------------------------------------------------------------------------\u001b[0m",
      "\u001b[0;31mNameError\u001b[0m                                 Traceback (most recent call last)",
      "\u001b[0;32m<ipython-input-1-eb9517022286>\u001b[0m in \u001b[0;36m<module>\u001b[0;34m()\u001b[0m\n\u001b[0;32m----> 1\u001b[0;31m \u001b[0mlist_dir\u001b[0m \u001b[0;34m=\u001b[0m \u001b[0mos\u001b[0m\u001b[0;34m.\u001b[0m\u001b[0mlistdir\u001b[0m\u001b[0;34m(\u001b[0m\u001b[0;34m'fruits-360/Training'\u001b[0m\u001b[0;34m)\u001b[0m\u001b[0;34m\u001b[0m\u001b[0;34m\u001b[0m\u001b[0m\n\u001b[0m\u001b[1;32m      2\u001b[0m \u001b[0mdirectories\u001b[0m\u001b[0;34m=\u001b[0m\u001b[0msorted\u001b[0m\u001b[0;34m(\u001b[0m\u001b[0mlist_dir\u001b[0m\u001b[0;34m)\u001b[0m\u001b[0;34m\u001b[0m\u001b[0;34m\u001b[0m\u001b[0m\n\u001b[1;32m      3\u001b[0m \u001b[0;34m\u001b[0m\u001b[0m\n\u001b[1;32m      4\u001b[0m \u001b[0;31m#Function that receives the fruit, percentage of data that we want to copy, and\u001b[0m\u001b[0;34m\u001b[0m\u001b[0;34m\u001b[0m\u001b[0;34m\u001b[0m\u001b[0m\n\u001b[1;32m      5\u001b[0m \u001b[0;31m#first and last folder we want to copy from, and copys a certain percentge of the images\u001b[0m\u001b[0;34m\u001b[0m\u001b[0;34m\u001b[0m\u001b[0;34m\u001b[0m\u001b[0m\n",
      "\u001b[0;31mNameError\u001b[0m: name 'os' is not defined"
     ]
    }
   ],
   "source": [
    "#Copies the images from the training folder of the kaggle dataset into the folders\n",
    "#of the new dataset\n",
    "\n",
    "\n",
    "#Creates a list of the directories inside the training folder and sortes them \n",
    "#alphabetically\n",
    "list_dir = os.listdir('fruits-360/Training')\n",
    "directories=sorted(list_dir)\n",
    "\n",
    "#Function that receives the fruit, percentage of data that we want to copy, and\n",
    "#first and last folder we want to copy from, and copys a certain percentge of the images\n",
    "#into the new folder\n",
    "#it´s not random to make sure we get images from every view\n",
    "def train_fruit(fruit, percentage, begin, end):\n",
    "    for i in range(begin,end):\n",
    "    allFiles = os.listdir('fruits-360/Training/'+directories[i]) \n",
    "    allFiles=sorted(allFiles)\n",
    " \n",
    "    for ii in range(0, len(allFiles),int(1/percentage)):\n",
    "      s='fruits-360/Training/' + directories[i]+ '/'+ allFiles[ii]\n",
    "      d='NewDataSet/Train/'+fruit+'/'+str(i)+allFiles[ii]\n",
    "      shutil.copyfile(s,d)\n",
    "      \n",
    "\n",
    "train_fruit(\"Apple\", 1, 0,12)\n",
    "train_fruit(\"Lemon\", 1, 49,50 )\n",
    "train_fruit(\"Orange\",1, 60,61 )\n",
    "train_fruit(\"Pear\", 1, 66,71)\n"
   ]
  },
  {
   "cell_type": "code",
   "execution_count": 0,
   "metadata": {
    "colab": {},
    "colab_type": "code",
    "id": "NclZKakR38zn"
   },
   "outputs": [],
   "source": [
    "#Moves a certaing percentage of the training set images the validation folder\n",
    "\n",
    "  \n",
    "#function that receives the name of the fruit and the percentage of the taining \n",
    "#set to used for validation and moves the images acording to those parameters\n",
    "  def validation_fruit(fruit, percentage):\n",
    "    allFiles = os.listdir('NewDataSet/Train/'+fruit) \n",
    "    allFiles=sorted(allFiles)\n",
    "    a=int(len(allFiles)*percentage)\n",
    "    r=random.sample(range(1, len(allFiles)), a)\n",
    "\n",
    "    for i in range(0,len(r)):\n",
    "        s='NewDataSet/Train/'+fruit+'/'+allFiles[r[i]]\n",
    "        d='NewDataSet/Validation/'+fruit+'/'+str(i)+allFiles[r[i]]\n",
    "        if os.path.exists(s):\n",
    "            shutil.move(s,d)\n",
    "      \n",
    "validation_fruit(\"Apple\",0.25)\n",
    "validation_fruit(\"Lemon\",0.25)\n",
    "validation_fruit(\"Orange\",0.25)\n",
    "validation_fruit(\"Pear\",0.25)\n",
    "      "
   ]
  },
  {
   "cell_type": "code",
   "execution_count": 0,
   "metadata": {
    "colab": {},
    "colab_type": "code",
    "id": "7Mqf9iHFiXpC"
   },
   "outputs": [],
   "source": [
    "#Copies the images from the test folder of the kaggle dataset into the folders\n",
    "#of the new dataset\n",
    "\n",
    "\n",
    "#Creates a list of the directories inside the test folder and sortes them \n",
    "#alphabetically\n",
    "list_dir = os.listdir('fruits-360/Test')\n",
    "directories=sorted(list_dir)\n",
    "\n",
    "#Function that receives the fruit, percentage of data that we want to copy, and\n",
    "#first and last folder we want to copy from, and copys a certain percentge of the images\n",
    "#into the new folder\n",
    "#it´s not random to make sure we get images from every view\n",
    "def train_fruit(fruit, percentage, begin, end):\n",
    "    for i in range(begin,end):\n",
    "        allFiles = os.listdir('fruits-360/Test/'+directories[i]) \n",
    "        allFiles=sorted(allFiles)\n",
    " \n",
    "    for ii in range(0, len(allFiles),int(1/percentage)):\n",
    "        s='fruits-360/Test/' + directories[i]+ '/'+ allFiles[ii]\n",
    "        d='NewDataSet/Test/'+fruit+'/'+str(i)+allFiles[ii]\n",
    "        shutil.copyfile(s,d)\n",
    "      \n",
    "\n",
    "train_fruit(\"Apple\", 1, 0,12)\n",
    "train_fruit(\"Lemon\", 1, 49,50 )\n",
    "train_fruit(\"Orange\",1, 60,61 )\n",
    "train_fruit(\"Pear\", 1, 66,71)"
   ]
  },
  {
   "cell_type": "code",
   "execution_count": 6,
   "metadata": {
    "colab": {
     "base_uri": "https://localhost:8080/",
     "height": 68
    },
    "colab_type": "code",
    "id": "AexIGICF_Ltn",
    "outputId": "da9c166b-e109-4ed9-abf7-815ca8b115cf"
   },
   "outputs": [
    {
     "name": "stdout",
     "output_type": "stream",
     "text": [
      "Found 6863 images belonging to 4 classes.\n",
      "Found 2286 images belonging to 4 classes.\n",
      "Found 3039 images belonging to 4 classes.\n"
     ]
    }
   ],
   "source": [
    "#formating the training, validation and test sets\n",
    "#we use ImageDataGenerator to fetch data and feed it to our network\n",
    "\n",
    "train_data_dir=\"NewDataSet/Train\"\n",
    "validation_data_dir=\"NewDataSet/Validation\"\n",
    "test_data_dir=\"NewDataSet/Test\"\n",
    "\n",
    "batch_size=32\n",
    "\n",
    "\n",
    "train_datagen=ImageDataGenerator(preprocessing_function=preprocess_input) \n",
    "train_generator=train_datagen.flow_from_directory(train_data_dir,\n",
    "                                                 target_size=(224,224),\n",
    "                                                 color_mode='rgb',\n",
    "                                                 batch_size=batch_size,\n",
    "                                                 class_mode='categorical',\n",
    "                                                 shuffle=True)\n",
    "validation_generator=train_datagen.flow_from_directory(validation_data_dir,\n",
    "                                                 target_size=(224,224),\n",
    "                                                 color_mode='rgb',\n",
    "                                                 batch_size=batch_size,\n",
    "                                                 class_mode='categorical',\n",
    "                                                 shuffle=True)\n",
    "test_generator=train_datagen.flow_from_directory(test_data_dir,\n",
    "                                                 target_size=(224,224),\n",
    "                                                 color_mode='rgb',\n",
    "                                                 batch_size=batch_size,\n",
    "                                                 class_mode='categorical',\n",
    "                                                 shuffle=True)\n",
    "\n"
   ]
  },
  {
   "cell_type": "code",
   "execution_count": 0,
   "metadata": {
    "colab": {},
    "colab_type": "code",
    "id": "rAqsfu6A_RC9"
   },
   "outputs": [],
   "source": [
    "#keras.applications.mobilenet.MobileNet(input_shape=None, alpha=1.0, depth_multiplier=1, dropout=1e-3, include_top=True, weights='imagenet', input_tensor=None, pooling=None, classes=1000)\n",
    "#keras.layers.Dense(units, activation=None, use_bias=True, kernel_initializer='glorot_uniform', bias_initializer='zeros', kernel_regularizer=None, bias_regularizer=None, activity_regularizer=None, kernel_constraint=None, bias_constraint=None)\n",
    "\n",
    "#Build the model trains the network and calculates the loss and accuracy for the training set and validation set\n",
    "\n",
    "def func(kini, bini, kreg, breg, alphas, ep):\n",
    "\n",
    "  base_model=keras.applications.mobilenet.MobileNet(weights='imagenet',include_top=False) \n",
    "  #imports the mobilenet model and discards the last neuron layer and uses the already trained weights\n",
    "\n",
    "  x=base_model.output\n",
    "  x=GlobalAveragePooling2D()(x)\n",
    "  x=Dense(1024,activation='relu',kernel_initializer=kini, bias_initializer=bini, kernel_regularizer=kreg, bias_regularizer=breg )(x) #we add dense layers so that the model can learn more complex functions and classify for better results.\n",
    "  x=Dense(1024,activation='relu',kernel_initializer=kini, bias_initializer=bini, kernel_regularizer=kreg, bias_regularizer=breg)(x) #dense layer 2\n",
    "  x=Dense(512,activation='relu',kernel_initializer=kini, bias_initializer=bini, kernel_regularizer=kreg, bias_regularizer=breg)(x) #dense layer 3\n",
    "  preds=Dense(4,activation='softmax')(x) #final layer with softmax activation and 4 classes\n",
    "  \n",
    "  model=Model(inputs=base_model.input,outputs=preds)\n",
    "  model.compile(optimizer='Adam',loss='categorical_crossentropy',metrics=['accuracy'])\n",
    "  step_size_train=train_generator.n//train_generator.batch_size\n",
    "  step_size_validation=validation_generator.n//train_generator.batch_size\n",
    "  model.fit_generator(generator=train_generator,\n",
    "                      validation_data=validation_generator,\n",
    "                      validation_steps=step_size_validation,\n",
    "                      steps_per_epoch=step_size_train,\n",
    "                      epochs=ep,\n",
    "                      callbacks=[EarlyStopping(monitor='val_loss', min_delta=0, patience=3, verbose=0, mode='auto', baseline=None, restore_best_weights=True)]\n",
    "                     )\n",
    "  "
   ]
  },
  {
   "cell_type": "code",
   "execution_count": 0,
   "metadata": {
    "colab": {},
    "colab_type": "code",
    "id": "Oi9Na_4gvUj3"
   },
   "outputs": [],
   "source": [
    "def func1(kini, bini, kreg, breg, alphas, ep):\n",
    "\n",
    "  base_model=keras.applications.mobilenet.MobileNet(weights='imagenet',include_top=False) \n",
    "  #imports the mobilenet model and discards the last neuron layer and uses the already trained weights\n",
    "\n",
    "  x=base_model.output\n",
    "  x=GlobalAveragePooling2D()(x)\n",
    "  x=Dense(1024,activation='relu',kernel_initializer=kini, bias_initializer=bini, kernel_regularizer=kreg, bias_regularizer=breg )(x) #we add dense layers so that the model can learn more complex functions and classify for better results.\n",
    "  preds=Dense(4,activation='softmax')(x) #final layer with softmax activation and 4 classes\n",
    "  \n",
    "  model=Model(inputs=base_model.input,outputs=preds)\n",
    "  model.compile(optimizer='Adam',loss='categorical_crossentropy',metrics=['accuracy'])\n",
    "  step_size_train=train_generator.n//train_generator.batch_size\n",
    "  step_size_validation=validation_generator.n//train_generator.batch_size\n",
    "  model.fit_generator(generator=train_generator,\n",
    "                      validation_data=validation_generator,\n",
    "                      validation_steps=step_size_validation,\n",
    "                      steps_per_epoch=step_size_train,\n",
    "                      epochs=ep,\n",
    "                      callbacks=[EarlyStopping(monitor='val_loss', min_delta=0, patience=3, verbose=0, mode='auto', baseline=None, restore_best_weights=True)]\n",
    "                     )\n",
    "  "
   ]
  },
  {
   "cell_type": "code",
   "execution_count": 0,
   "metadata": {
    "colab": {},
    "colab_type": "code",
    "id": "AKUeTRvKwp5u"
   },
   "outputs": [],
   "source": [
    "def func6(kini, bini, kreg, breg, alphas, ep):\n",
    "\n",
    "  base_model=keras.applications.mobilenet.MobileNet(weights='imagenet',include_top=False) \n",
    "  #imports the mobilenet model and discards the last neuron layer and uses the already trained weights\n",
    "\n",
    "  x=base_model.output\n",
    "  x=GlobalAveragePooling2D()(x)\n",
    "  x=Dense(1024,activation='relu',kernel_initializer=kini, bias_initializer=bini, kernel_regularizer=kreg, bias_regularizer=breg )(x) #we add dense layers so that the model can learn more complex functions and classify for better results.\n",
    "  x=Dense(1024,activation='relu',kernel_initializer=kini, bias_initializer=bini, kernel_regularizer=kreg, bias_regularizer=breg )(x) #we add dense layers so that the model can learn more complex functions and classify for better results.\n",
    "  x=Dense(1024,activation='relu',kernel_initializer=kini, bias_initializer=bini, kernel_regularizer=kreg, bias_regularizer=breg )(x) #we add dense layers so that the model can learn more complex functions and classify for better results.\n",
    "  x=Dense(1024,activation='relu',kernel_initializer=kini, bias_initializer=bini, kernel_regularizer=kreg, bias_regularizer=breg )(x) #we add dense layers so that the model can learn more complex functions and classify for better results.\n",
    "  x=Dense(1024,activation='relu',kernel_initializer=kini, bias_initializer=bini, kernel_regularizer=kreg, bias_regularizer=breg )(x) #we add dense layers so that the model can learn more complex functions and classify for better results.\n",
    "  x=Dense(512,activation='relu',kernel_initializer=kini, bias_initializer=bini, kernel_regularizer=kreg, bias_regularizer=breg )(x) #we add dense layers so that the model can learn more complex functions and classify for better results.\n",
    "  preds=Dense(4,activation='softmax')(x) #final layer with softmax activation and 4 classes\n",
    "  \n",
    "  model=Model(inputs=base_model.input,outputs=preds)\n",
    "  model.compile(optimizer='Adam',loss='categorical_crossentropy',metrics=['accuracy'])\n",
    "  step_size_train=train_generator.n//train_generator.batch_size\n",
    "  step_size_validation=validation_generator.n//train_generator.batch_size\n",
    "  model.fit_generator(generator=train_generator,\n",
    "                      validation_data=validation_generator,\n",
    "                      validation_steps=step_size_validation,\n",
    "                      steps_per_epoch=step_size_train,\n",
    "                      epochs=ep,\n",
    "                      callbacks=[EarlyStopping(monitor='val_loss', min_delta=0, patience=3, verbose=0, mode='auto', baseline=None, restore_best_weights=True)]\n",
    "                     )\n",
    "  "
   ]
  },
  {
   "cell_type": "code",
   "execution_count": 0,
   "metadata": {
    "colab": {
     "base_uri": "https://localhost:8080/",
     "height": 391
    },
    "colab_type": "code",
    "id": "cEaieOHR1wHq",
    "outputId": "89e0bf46-65cb-4c2e-8856-ac2542f69baa"
   },
   "outputs": [
    {
     "name": "stdout",
     "output_type": "stream",
     "text": [
      "WARNING:tensorflow:From /usr/local/lib/python3.6/dist-packages/tensorflow/python/framework/op_def_library.py:263: colocate_with (from tensorflow.python.framework.ops) is deprecated and will be removed in a future version.\n",
      "Instructions for updating:\n",
      "Colocations handled automatically by placer.\n"
     ]
    },
    {
     "name": "stderr",
     "output_type": "stream",
     "text": [
      "/usr/local/lib/python3.6/dist-packages/keras_applications/mobilenet.py:208: UserWarning: MobileNet shape is undefined. Weights for input shape (224, 224) will be loaded.\n",
      "  warnings.warn('MobileNet shape is undefined.'\n"
     ]
    },
    {
     "name": "stdout",
     "output_type": "stream",
     "text": [
      "WARNING:tensorflow:From /usr/local/lib/python3.6/dist-packages/tensorflow/python/ops/math_ops.py:3066: to_int32 (from tensorflow.python.ops.math_ops) is deprecated and will be removed in a future version.\n",
      "Instructions for updating:\n",
      "Use tf.cast instead.\n",
      "Epoch 1/20\n",
      "214/214 [==============================] - 61s 286ms/step - loss: 0.1059 - acc: 0.9701 - val_loss: 1.5561 - val_acc: 0.8706\n",
      "Epoch 2/20\n",
      "214/214 [==============================] - 53s 246ms/step - loss: 0.0883 - acc: 0.9804 - val_loss: 1.0983 - val_acc: 0.8421\n",
      "Epoch 3/20\n",
      "214/214 [==============================] - 52s 244ms/step - loss: 0.0458 - acc: 0.9877 - val_loss: 0.3292 - val_acc: 0.9441\n",
      "Epoch 4/20\n",
      "214/214 [==============================] - 52s 244ms/step - loss: 0.0073 - acc: 0.9987 - val_loss: 9.9648e-07 - val_acc: 1.0000\n",
      "Epoch 5/20\n",
      "214/214 [==============================] - 52s 243ms/step - loss: 0.0092 - acc: 0.9991 - val_loss: 1.8208e-05 - val_acc: 1.0000\n",
      "Epoch 6/20\n",
      "214/214 [==============================] - 52s 243ms/step - loss: 0.0584 - acc: 0.9860 - val_loss: 0.0250 - val_acc: 0.9911\n",
      "Epoch 7/20\n",
      "214/214 [==============================] - 52s 244ms/step - loss: 0.0477 - acc: 0.9917 - val_loss: 0.0146 - val_acc: 0.9991\n"
     ]
    }
   ],
   "source": [
    "func('glorot_uniform', 'zeros', None , None,1,20)"
   ]
  },
  {
   "cell_type": "code",
   "execution_count": 0,
   "metadata": {
    "colab": {
     "base_uri": "https://localhost:8080/",
     "height": 377
    },
    "colab_type": "code",
    "id": "g0TIzo8Jw_Bp",
    "outputId": "b797b390-4905-472e-bee8-827e3ea4a03d"
   },
   "outputs": [
    {
     "name": "stdout",
     "output_type": "stream",
     "text": [
      "WARNING:tensorflow:From /usr/local/lib/python3.6/dist-packages/tensorflow/python/framework/op_def_library.py:263: colocate_with (from tensorflow.python.framework.ops) is deprecated and will be removed in a future version.\n",
      "Instructions for updating:\n",
      "Colocations handled automatically by placer.\n"
     ]
    },
    {
     "name": "stderr",
     "output_type": "stream",
     "text": [
      "/usr/local/lib/python3.6/dist-packages/keras_applications/mobilenet.py:208: UserWarning: MobileNet shape is undefined. Weights for input shape (224, 224) will be loaded.\n",
      "  warnings.warn('MobileNet shape is undefined.'\n"
     ]
    },
    {
     "name": "stdout",
     "output_type": "stream",
     "text": [
      "Downloading data from https://github.com/fchollet/deep-learning-models/releases/download/v0.6/mobilenet_1_0_224_tf_no_top.h5\n",
      "17227776/17225924 [==============================] - 0s 0us/step\n",
      "WARNING:tensorflow:From /usr/local/lib/python3.6/dist-packages/tensorflow/python/ops/math_ops.py:3066: to_int32 (from tensorflow.python.ops.math_ops) is deprecated and will be removed in a future version.\n",
      "Instructions for updating:\n",
      "Use tf.cast instead.\n",
      "Epoch 1/20\n",
      "214/214 [==============================] - 59s 277ms/step - loss: 0.2326 - acc: 0.9011 - val_loss: 1.0260 - val_acc: 0.9010\n",
      "Epoch 2/20\n",
      "214/214 [==============================] - 51s 237ms/step - loss: 0.1155 - acc: 0.9607 - val_loss: 0.0285 - val_acc: 0.9942\n",
      "Epoch 3/20\n",
      "214/214 [==============================] - 51s 237ms/step - loss: 0.4650 - acc: 0.9039 - val_loss: 1.4397 - val_acc: 0.6513\n",
      "Epoch 4/20\n",
      "214/214 [==============================] - 51s 239ms/step - loss: 0.1520 - acc: 0.9388 - val_loss: 0.1572 - val_acc: 0.9450\n",
      "Epoch 5/20\n",
      "214/214 [==============================] - 51s 240ms/step - loss: 0.3331 - acc: 0.9530 - val_loss: 5.9495 - val_acc: 0.6309\n"
     ]
    }
   ],
   "source": [
    "func6('glorot_uniform', 'zeros', None , None,1,20)"
   ]
  },
  {
   "cell_type": "code",
   "execution_count": 15,
   "metadata": {
    "colab": {
     "base_uri": "https://localhost:8080/",
     "height": 411
    },
    "colab_type": "code",
    "id": "oMyiaq4WASaj",
    "outputId": "748da90d-d340-43c6-c849-4e74f759f1fe"
   },
   "outputs": [
    {
     "name": "stderr",
     "output_type": "stream",
     "text": [
      "/usr/local/lib/python3.6/dist-packages/keras_applications/mobilenet.py:208: UserWarning: MobileNet shape is undefined. Weights for input shape (224, 224) will be loaded.\n",
      "  warnings.warn('MobileNet shape is undefined.'\n"
     ]
    },
    {
     "name": "stdout",
     "output_type": "stream",
     "text": [
      "Epoch 1/20\n",
      "214/214 [==============================] - 62s 289ms/step - loss: 0.0867 - acc: 0.9779 - val_loss: 3.3297 - val_acc: 0.5775\n",
      "Epoch 2/20\n",
      "214/214 [==============================] - 52s 244ms/step - loss: 0.0260 - acc: 0.9911 - val_loss: 0.0583 - val_acc: 0.9902\n",
      "Epoch 3/20\n",
      "214/214 [==============================] - 52s 242ms/step - loss: 0.0067 - acc: 0.9984 - val_loss: 4.8710e-04 - val_acc: 1.0000\n",
      "Epoch 4/20\n",
      "214/214 [==============================] - 52s 243ms/step - loss: 0.0288 - acc: 0.9918 - val_loss: 0.0684 - val_acc: 0.9791\n",
      "Epoch 5/20\n",
      "214/214 [==============================] - 52s 242ms/step - loss: 0.0061 - acc: 0.9982 - val_loss: 7.3497e-05 - val_acc: 1.0000\n",
      "Epoch 6/20\n",
      "214/214 [==============================] - 52s 243ms/step - loss: 7.8273e-05 - acc: 1.0000 - val_loss: 1.9603e-06 - val_acc: 1.0000\n",
      "Epoch 7/20\n",
      "214/214 [==============================] - 52s 243ms/step - loss: 1.9827e-05 - acc: 1.0000 - val_loss: 6.6614e-07 - val_acc: 1.0000\n",
      "Epoch 8/20\n",
      "214/214 [==============================] - 52s 244ms/step - loss: 1.9372e-05 - acc: 1.0000 - val_loss: 7.1840e-07 - val_acc: 1.0000\n",
      "Epoch 9/20\n",
      "214/214 [==============================] - 52s 243ms/step - loss: 0.0666 - acc: 0.9836 - val_loss: 0.8338 - val_acc: 0.8975\n",
      "Epoch 10/20\n",
      "214/214 [==============================] - 52s 243ms/step - loss: 0.0147 - acc: 0.9966 - val_loss: 8.3828e-07 - val_acc: 1.0000\n"
     ]
    }
   ],
   "source": [
    "func1('glorot_uniform', 'zeros', None , None,1,20)"
   ]
  },
  {
   "cell_type": "code",
   "execution_count": 16,
   "metadata": {
    "colab": {
     "base_uri": "https://localhost:8080/",
     "height": 513
    },
    "colab_type": "code",
    "id": "4KdTAOaQAUkE",
    "outputId": "5725b878-d1a3-44b2-8989-556210b8547d"
   },
   "outputs": [
    {
     "name": "stderr",
     "output_type": "stream",
     "text": [
      "/usr/local/lib/python3.6/dist-packages/keras_applications/mobilenet.py:208: UserWarning: MobileNet shape is undefined. Weights for input shape (224, 224) will be loaded.\n",
      "  warnings.warn('MobileNet shape is undefined.'\n"
     ]
    },
    {
     "name": "stdout",
     "output_type": "stream",
     "text": [
      "Epoch 1/20\n",
      "214/214 [==============================] - 64s 297ms/step - loss: 1.3121 - acc: 0.6279 - val_loss: 1.2451 - val_acc: 0.6278\n",
      "Epoch 2/20\n",
      "214/214 [==============================] - 51s 237ms/step - loss: 1.1928 - acc: 0.6269 - val_loss: 1.1447 - val_acc: 0.6290\n",
      "Epoch 3/20\n",
      "214/214 [==============================] - 51s 237ms/step - loss: 1.1093 - acc: 0.6279 - val_loss: 1.0774 - val_acc: 0.6278\n",
      "Epoch 4/20\n",
      "214/214 [==============================] - 51s 237ms/step - loss: 1.0541 - acc: 0.6271 - val_loss: 1.0339 - val_acc: 0.6256\n",
      "Epoch 5/20\n",
      "214/214 [==============================] - 51s 237ms/step - loss: 1.0168 - acc: 0.6280 - val_loss: 0.9989 - val_acc: 0.6304\n",
      "Epoch 6/20\n",
      "214/214 [==============================] - 50s 236ms/step - loss: 0.9957 - acc: 0.6252 - val_loss: 0.9829 - val_acc: 0.6287\n",
      "Epoch 7/20\n",
      "214/214 [==============================] - 51s 236ms/step - loss: 0.9774 - acc: 0.6306 - val_loss: 0.9838 - val_acc: 0.6216\n",
      "Epoch 8/20\n",
      "214/214 [==============================] - 50s 236ms/step - loss: 0.9728 - acc: 0.6253 - val_loss: 0.9591 - val_acc: 0.6349\n",
      "Epoch 9/20\n",
      "214/214 [==============================] - 51s 237ms/step - loss: 0.9633 - acc: 0.6271 - val_loss: 0.9708 - val_acc: 0.6220\n",
      "Epoch 10/20\n",
      "214/214 [==============================] - 51s 236ms/step - loss: 0.9596 - acc: 0.6289 - val_loss: 0.9477 - val_acc: 0.6335\n",
      "Epoch 11/20\n",
      "214/214 [==============================] - 51s 236ms/step - loss: 0.9613 - acc: 0.6265 - val_loss: 0.9692 - val_acc: 0.6238\n",
      "Epoch 12/20\n",
      "214/214 [==============================] - 50s 235ms/step - loss: 0.9595 - acc: 0.6264 - val_loss: 0.9513 - val_acc: 0.6295\n",
      "Epoch 13/20\n",
      "214/214 [==============================] - 50s 236ms/step - loss: 0.9546 - acc: 0.6300 - val_loss: 0.9656 - val_acc: 0.6229\n"
     ]
    }
   ],
   "source": [
    "func1('zero', 'zeros', None , None,1,20)"
   ]
  },
  {
   "cell_type": "code",
   "execution_count": 17,
   "metadata": {
    "colab": {
     "base_uri": "https://localhost:8080/",
     "height": 411
    },
    "colab_type": "code",
    "id": "OZ8du9OPCj71",
    "outputId": "2e717f36-c4b0-443a-8149-6ddf9a5b4a8b"
   },
   "outputs": [
    {
     "name": "stderr",
     "output_type": "stream",
     "text": [
      "/usr/local/lib/python3.6/dist-packages/keras_applications/mobilenet.py:208: UserWarning: MobileNet shape is undefined. Weights for input shape (224, 224) will be loaded.\n",
      "  warnings.warn('MobileNet shape is undefined.'\n"
     ]
    },
    {
     "name": "stdout",
     "output_type": "stream",
     "text": [
      "Epoch 1/20\n",
      "214/214 [==============================] - 65s 305ms/step - loss: 15.2731 - acc: 0.0524 - val_loss: 15.2886 - val_acc: 0.0515\n",
      "Epoch 2/20\n",
      "214/214 [==============================] - 50s 235ms/step - loss: 15.2778 - acc: 0.0521 - val_loss: 15.3029 - val_acc: 0.0506\n",
      "Epoch 3/20\n",
      "214/214 [==============================] - 50s 236ms/step - loss: 15.2749 - acc: 0.0523 - val_loss: 15.2671 - val_acc: 0.0528\n",
      "Epoch 4/20\n",
      "214/214 [==============================] - 51s 238ms/step - loss: 15.2708 - acc: 0.0526 - val_loss: 15.2600 - val_acc: 0.0532\n",
      "Epoch 5/20\n",
      "214/214 [==============================] - 51s 236ms/step - loss: 15.2822 - acc: 0.0519 - val_loss: 15.2886 - val_acc: 0.0515\n",
      "Epoch 6/20\n",
      "214/214 [==============================] - 51s 238ms/step - loss: 15.2490 - acc: 0.0539 - val_loss: 15.2886 - val_acc: 0.0515\n",
      "Epoch 7/20\n",
      "214/214 [==============================] - 51s 239ms/step - loss: 15.2755 - acc: 0.0523 - val_loss: 15.2600 - val_acc: 0.0532\n",
      "Epoch 8/20\n",
      "214/214 [==============================] - 51s 240ms/step - loss: 15.2755 - acc: 0.0523 - val_loss: 15.2886 - val_acc: 0.0515\n",
      "Epoch 9/20\n",
      "214/214 [==============================] - 51s 239ms/step - loss: 15.2987 - acc: 0.0508 - val_loss: 15.2886 - val_acc: 0.0515\n",
      "Epoch 10/20\n",
      "214/214 [==============================] - 51s 238ms/step - loss: 15.2466 - acc: 0.0541 - val_loss: 15.2671 - val_acc: 0.0528\n"
     ]
    }
   ],
   "source": [
    "func1('ones', 'zeros', None , None,1,20)"
   ]
  },
  {
   "cell_type": "code",
   "execution_count": 18,
   "metadata": {
    "colab": {
     "base_uri": "https://localhost:8080/",
     "height": 479
    },
    "colab_type": "code",
    "id": "tr942YL3FX3c",
    "outputId": "7100152c-dfdf-4c21-e6e8-fd86392cb993"
   },
   "outputs": [
    {
     "name": "stderr",
     "output_type": "stream",
     "text": [
      "/usr/local/lib/python3.6/dist-packages/keras_applications/mobilenet.py:208: UserWarning: MobileNet shape is undefined. Weights for input shape (224, 224) will be loaded.\n",
      "  warnings.warn('MobileNet shape is undefined.'\n"
     ]
    },
    {
     "name": "stdout",
     "output_type": "stream",
     "text": [
      "Epoch 1/20\n",
      "214/214 [==============================] - 70s 325ms/step - loss: 0.1027 - acc: 0.9749 - val_loss: 0.4639 - val_acc: 0.8684\n",
      "Epoch 2/20\n",
      "214/214 [==============================] - 52s 245ms/step - loss: 4.9892e-04 - acc: 0.9999 - val_loss: 0.4060 - val_acc: 0.9139\n",
      "Epoch 3/20\n",
      "214/214 [==============================] - 53s 246ms/step - loss: 0.0472 - acc: 0.9873 - val_loss: 0.1024 - val_acc: 0.9672\n",
      "Epoch 4/20\n",
      "214/214 [==============================] - 53s 246ms/step - loss: 0.0134 - acc: 0.9968 - val_loss: 0.2923 - val_acc: 0.9170\n",
      "Epoch 5/20\n",
      "214/214 [==============================] - 53s 246ms/step - loss: 0.0311 - acc: 0.9914 - val_loss: 7.3140e-06 - val_acc: 1.0000\n",
      "Epoch 6/20\n",
      "214/214 [==============================] - 53s 247ms/step - loss: 3.6680e-04 - acc: 0.9999 - val_loss: 1.4887e-06 - val_acc: 1.0000\n",
      "Epoch 7/20\n",
      "214/214 [==============================] - 53s 245ms/step - loss: 0.0069 - acc: 0.9985 - val_loss: 6.3461e-07 - val_acc: 1.0000\n",
      "Epoch 8/20\n",
      "214/214 [==============================] - 53s 247ms/step - loss: 4.4301e-05 - acc: 1.0000 - val_loss: 5.6621e-07 - val_acc: 1.0000\n",
      "Epoch 9/20\n",
      "214/214 [==============================] - 53s 246ms/step - loss: 2.0358e-05 - acc: 1.0000 - val_loss: 3.7458e-07 - val_acc: 1.0000\n",
      "Epoch 10/20\n",
      "214/214 [==============================] - 53s 246ms/step - loss: 0.0312 - acc: 0.9909 - val_loss: 0.0090 - val_acc: 0.9987\n",
      "Epoch 11/20\n",
      "214/214 [==============================] - 53s 246ms/step - loss: 4.8454e-04 - acc: 0.9999 - val_loss: 0.0019 - val_acc: 0.9987\n",
      "Epoch 12/20\n",
      "214/214 [==============================] - 53s 246ms/step - loss: 3.1599e-04 - acc: 1.0000 - val_loss: 3.8104e-06 - val_acc: 1.0000\n"
     ]
    }
   ],
   "source": [
    "func1('RandomNormal', 'zeros', None , None,1,20)"
   ]
  },
  {
   "cell_type": "code",
   "execution_count": 19,
   "metadata": {
    "colab": {
     "base_uri": "https://localhost:8080/",
     "height": 241
    },
    "colab_type": "code",
    "id": "-D0JANT9HpsZ",
    "outputId": "9071121f-5da0-41ef-d0a2-e04e1316daec"
   },
   "outputs": [
    {
     "name": "stderr",
     "output_type": "stream",
     "text": [
      "/usr/local/lib/python3.6/dist-packages/keras_applications/mobilenet.py:208: UserWarning: MobileNet shape is undefined. Weights for input shape (224, 224) will be loaded.\n",
      "  warnings.warn('MobileNet shape is undefined.'\n"
     ]
    },
    {
     "name": "stdout",
     "output_type": "stream",
     "text": [
      "Epoch 1/20\n",
      "214/214 [==============================] - 73s 339ms/step - loss: 0.1143 - acc: 0.9732 - val_loss: 0.0320 - val_acc: 0.9867\n",
      "Epoch 2/20\n",
      "214/214 [==============================] - 52s 245ms/step - loss: 0.0097 - acc: 0.9966 - val_loss: 8.5952e-06 - val_acc: 1.0000\n",
      "Epoch 3/20\n",
      "214/214 [==============================] - 52s 244ms/step - loss: 0.0284 - acc: 0.9917 - val_loss: 0.3805 - val_acc: 0.9219\n",
      "Epoch 4/20\n",
      "214/214 [==============================] - 52s 245ms/step - loss: 0.0146 - acc: 0.9959 - val_loss: 0.0018 - val_acc: 0.9987\n",
      "Epoch 5/20\n",
      "214/214 [==============================] - 52s 245ms/step - loss: 0.0104 - acc: 0.9972 - val_loss: 0.0099 - val_acc: 0.9973\n"
     ]
    }
   ],
   "source": [
    "func1('RandomUniform', 'zeros', None , None,1,20)"
   ]
  },
  {
   "cell_type": "code",
   "execution_count": 32,
   "metadata": {
    "colab": {
     "base_uri": "https://localhost:8080/",
     "height": 309
    },
    "colab_type": "code",
    "id": "qnYrFpIdKYo9",
    "outputId": "b431724f-4730-44fe-a221-bd67a287aada"
   },
   "outputs": [
    {
     "name": "stderr",
     "output_type": "stream",
     "text": [
      "/usr/local/lib/python3.6/dist-packages/keras_applications/mobilenet.py:208: UserWarning: MobileNet shape is undefined. Weights for input shape (224, 224) will be loaded.\n",
      "  warnings.warn('MobileNet shape is undefined.'\n"
     ]
    },
    {
     "name": "stdout",
     "output_type": "stream",
     "text": [
      "Epoch 1/20\n",
      "214/214 [==============================] - 86s 403ms/step - loss: 8.7042 - acc: 0.9708 - val_loss: 2.8989 - val_acc: 0.5878\n",
      "Epoch 2/20\n",
      "214/214 [==============================] - 53s 250ms/step - loss: 0.0798 - acc: 0.9934 - val_loss: 0.6227 - val_acc: 0.9224\n",
      "Epoch 3/20\n",
      "214/214 [==============================] - 53s 250ms/step - loss: 0.0433 - acc: 0.9988 - val_loss: 0.0161 - val_acc: 1.0000\n",
      "Epoch 4/20\n",
      "214/214 [==============================] - 53s 248ms/step - loss: 0.0152 - acc: 0.9999 - val_loss: 0.0103 - val_acc: 1.0000\n",
      "Epoch 5/20\n",
      "214/214 [==============================] - 53s 250ms/step - loss: 0.0287 - acc: 0.9988 - val_loss: 0.9658 - val_acc: 0.9348\n",
      "Epoch 6/20\n",
      "214/214 [==============================] - 53s 249ms/step - loss: 0.4786 - acc: 0.9666 - val_loss: 0.0621 - val_acc: 0.9867\n",
      "Epoch 7/20\n",
      "214/214 [==============================] - 53s 249ms/step - loss: 0.0852 - acc: 0.9946 - val_loss: 1.6483 - val_acc: 0.6131\n"
     ]
    }
   ],
   "source": [
    "func1('glorot_uniform', 'zeros', l2(0.1), None,1,20)"
   ]
  },
  {
   "cell_type": "code",
   "execution_count": 33,
   "metadata": {
    "colab": {
     "base_uri": "https://localhost:8080/",
     "height": 479
    },
    "colab_type": "code",
    "id": "jWENAKWiMJhk",
    "outputId": "8d01ecec-fcac-4068-8e25-23eb52817c9e"
   },
   "outputs": [
    {
     "name": "stderr",
     "output_type": "stream",
     "text": [
      "/usr/local/lib/python3.6/dist-packages/keras_applications/mobilenet.py:208: UserWarning: MobileNet shape is undefined. Weights for input shape (224, 224) will be loaded.\n",
      "  warnings.warn('MobileNet shape is undefined.'\n"
     ]
    },
    {
     "name": "stdout",
     "output_type": "stream",
     "text": [
      "Epoch 1/20\n",
      "214/214 [==============================] - 90s 419ms/step - loss: 273.7446 - acc: 0.9329 - val_loss: 14.9462 - val_acc: 0.7356\n",
      "Epoch 2/20\n",
      "214/214 [==============================] - 54s 253ms/step - loss: 14.3637 - acc: 0.9159 - val_loss: 15.0107 - val_acc: 0.9468\n",
      "Epoch 3/20\n",
      "214/214 [==============================] - 54s 251ms/step - loss: 14.5122 - acc: 0.9206 - val_loss: 14.4729 - val_acc: 0.7360\n",
      "Epoch 4/20\n",
      "214/214 [==============================] - 54s 252ms/step - loss: 14.6738 - acc: 0.9011 - val_loss: 14.7309 - val_acc: 0.8602\n",
      "Epoch 5/20\n",
      "214/214 [==============================] - 54s 251ms/step - loss: 13.7740 - acc: 0.9274 - val_loss: 15.6973 - val_acc: 0.8980\n",
      "Epoch 6/20\n",
      "214/214 [==============================] - 54s 251ms/step - loss: 14.5156 - acc: 0.9146 - val_loss: 13.1549 - val_acc: 0.9437\n",
      "Epoch 7/20\n",
      "214/214 [==============================] - 54s 252ms/step - loss: 13.7604 - acc: 0.9270 - val_loss: 13.5606 - val_acc: 0.9299\n",
      "Epoch 8/20\n",
      "214/214 [==============================] - 54s 251ms/step - loss: 14.1227 - acc: 0.9156 - val_loss: 14.9766 - val_acc: 0.2529\n",
      "Epoch 9/20\n",
      "214/214 [==============================] - 54s 252ms/step - loss: 13.6654 - acc: 0.9230 - val_loss: 12.8618 - val_acc: 0.9463\n",
      "Epoch 10/20\n",
      "214/214 [==============================] - 54s 252ms/step - loss: 13.6127 - acc: 0.9265 - val_loss: 14.1009 - val_acc: 0.9454\n",
      "Epoch 11/20\n",
      "214/214 [==============================] - 54s 250ms/step - loss: 13.2800 - acc: 0.9252 - val_loss: 12.9568 - val_acc: 0.8811\n",
      "Epoch 12/20\n",
      "214/214 [==============================] - 54s 252ms/step - loss: 14.5101 - acc: 0.9324 - val_loss: 13.4325 - val_acc: 0.9463\n"
     ]
    }
   ],
   "source": [
    "func1('glorot_uniform', 'zeros', l1(0.1), None,1,20)"
   ]
  },
  {
   "cell_type": "code",
   "execution_count": 34,
   "metadata": {
    "colab": {
     "base_uri": "https://localhost:8080/",
     "height": 445
    },
    "colab_type": "code",
    "id": "ySxMVjq7Quv1",
    "outputId": "c0b81a7b-3e7d-416b-b39e-1d5732710a00"
   },
   "outputs": [
    {
     "name": "stderr",
     "output_type": "stream",
     "text": [
      "/usr/local/lib/python3.6/dist-packages/keras_applications/mobilenet.py:208: UserWarning: MobileNet shape is undefined. Weights for input shape (224, 224) will be loaded.\n",
      "  warnings.warn('MobileNet shape is undefined.'\n"
     ]
    },
    {
     "name": "stdout",
     "output_type": "stream",
     "text": [
      "Epoch 1/20\n",
      "214/214 [==============================] - 93s 434ms/step - loss: 0.0928 - acc: 0.9782 - val_loss: 0.0167 - val_acc: 0.9965\n",
      "Epoch 2/20\n",
      "214/214 [==============================] - 55s 256ms/step - loss: 0.0472 - acc: 0.9867 - val_loss: 1.9611 - val_acc: 0.7418\n",
      "Epoch 3/20\n",
      "214/214 [==============================] - 54s 251ms/step - loss: 0.0203 - acc: 0.9940 - val_loss: 0.1103 - val_acc: 0.9672\n",
      "Epoch 4/20\n",
      "214/214 [==============================] - 54s 253ms/step - loss: 3.0425e-04 - acc: 1.0000 - val_loss: 9.8497e-04 - val_acc: 0.9996\n",
      "Epoch 5/20\n",
      "214/214 [==============================] - 54s 252ms/step - loss: 0.0119 - acc: 0.9963 - val_loss: 9.5081e-04 - val_acc: 1.0000\n",
      "Epoch 6/20\n",
      "214/214 [==============================] - 54s 252ms/step - loss: 0.0083 - acc: 0.9981 - val_loss: 0.0011 - val_acc: 0.9996\n",
      "Epoch 7/20\n",
      "214/214 [==============================] - 54s 252ms/step - loss: 9.7928e-05 - acc: 1.0000 - val_loss: 7.2368e-07 - val_acc: 1.0000\n",
      "Epoch 8/20\n",
      "214/214 [==============================] - 54s 252ms/step - loss: 3.3488e-05 - acc: 1.0000 - val_loss: 5.8373e-07 - val_acc: 1.0000\n",
      "Epoch 9/20\n",
      "214/214 [==============================] - 54s 251ms/step - loss: 0.0079 - acc: 0.9980 - val_loss: 0.0436 - val_acc: 0.9858\n",
      "Epoch 10/20\n",
      "214/214 [==============================] - 54s 252ms/step - loss: 0.0365 - acc: 0.9879 - val_loss: 0.6520 - val_acc: 0.8492\n",
      "Epoch 11/20\n",
      "214/214 [==============================] - 54s 251ms/step - loss: 0.0058 - acc: 0.9974 - val_loss: 8.0782e-04 - val_acc: 0.9996\n"
     ]
    }
   ],
   "source": [
    "func1('glorot_uniform', 'zeros', None, None,0.9,20)"
   ]
  },
  {
   "cell_type": "code",
   "execution_count": 35,
   "metadata": {
    "colab": {
     "base_uri": "https://localhost:8080/",
     "height": 411
    },
    "colab_type": "code",
    "id": "xza6yjbQUQmL",
    "outputId": "93130c5b-55bb-4db2-a1a0-e3d4d989d1c9"
   },
   "outputs": [
    {
     "name": "stderr",
     "output_type": "stream",
     "text": [
      "/usr/local/lib/python3.6/dist-packages/keras_applications/mobilenet.py:208: UserWarning: MobileNet shape is undefined. Weights for input shape (224, 224) will be loaded.\n",
      "  warnings.warn('MobileNet shape is undefined.'\n"
     ]
    },
    {
     "name": "stdout",
     "output_type": "stream",
     "text": [
      "Epoch 1/20\n",
      "214/214 [==============================] - 95s 445ms/step - loss: 0.0949 - acc: 0.9782 - val_loss: 7.2342e-05 - val_acc: 1.0000\n",
      "Epoch 2/20\n",
      "214/214 [==============================] - 55s 258ms/step - loss: 0.0515 - acc: 0.9895 - val_loss: 1.7251e-05 - val_acc: 1.0000\n",
      "Epoch 3/20\n",
      "214/214 [==============================] - 55s 257ms/step - loss: 0.0013 - acc: 0.9996 - val_loss: 4.2113e-05 - val_acc: 1.0000\n",
      "Epoch 4/20\n",
      "214/214 [==============================] - 55s 257ms/step - loss: 2.7356e-04 - acc: 0.9999 - val_loss: 3.6436e-04 - val_acc: 1.0000\n",
      "Epoch 5/20\n",
      "214/214 [==============================] - 55s 257ms/step - loss: 5.7043e-05 - acc: 1.0000 - val_loss: 1.0295e-06 - val_acc: 1.0000\n",
      "Epoch 6/20\n",
      "214/214 [==============================] - 55s 257ms/step - loss: 1.4250e-05 - acc: 1.0000 - val_loss: 6.3283e-07 - val_acc: 1.0000\n",
      "Epoch 7/20\n",
      "214/214 [==============================] - 55s 257ms/step - loss: 7.9393e-06 - acc: 1.0000 - val_loss: 4.7116e-07 - val_acc: 1.0000\n",
      "Epoch 8/20\n",
      "214/214 [==============================] - 55s 257ms/step - loss: 0.0597 - acc: 0.9832 - val_loss: 11.3771 - val_acc: 0.2653\n",
      "Epoch 9/20\n",
      "214/214 [==============================] - 55s 257ms/step - loss: 0.0112 - acc: 0.9965 - val_loss: 9.9261e-05 - val_acc: 1.0000\n",
      "Epoch 10/20\n",
      "214/214 [==============================] - 55s 257ms/step - loss: 0.0412 - acc: 0.9886 - val_loss: 0.0519 - val_acc: 0.9858\n"
     ]
    }
   ],
   "source": [
    "func1('glorot_uniform', 'zeros', None, None,0.75,20)"
   ]
  },
  {
   "cell_type": "code",
   "execution_count": 36,
   "metadata": {
    "colab": {
     "base_uri": "https://localhost:8080/",
     "height": 241
    },
    "colab_type": "code",
    "id": "9HvxpC4oW_DA",
    "outputId": "4b1f1803-35c6-4e7d-e2c2-7a8c759d625d"
   },
   "outputs": [
    {
     "name": "stderr",
     "output_type": "stream",
     "text": [
      "/usr/local/lib/python3.6/dist-packages/keras_applications/mobilenet.py:208: UserWarning: MobileNet shape is undefined. Weights for input shape (224, 224) will be loaded.\n",
      "  warnings.warn('MobileNet shape is undefined.'\n"
     ]
    },
    {
     "name": "stdout",
     "output_type": "stream",
     "text": [
      "Epoch 1/20\n",
      "214/214 [==============================] - 100s 465ms/step - loss: 0.0807 - acc: 0.9772 - val_loss: 0.0918 - val_acc: 0.9752\n",
      "Epoch 2/20\n",
      "214/214 [==============================] - 57s 264ms/step - loss: 0.0229 - acc: 0.9925 - val_loss: 0.0194 - val_acc: 0.9956\n",
      "Epoch 3/20\n",
      "214/214 [==============================] - 56s 262ms/step - loss: 0.0243 - acc: 0.9940 - val_loss: 0.0641 - val_acc: 0.9814\n",
      "Epoch 4/20\n",
      "214/214 [==============================] - 56s 263ms/step - loss: 0.0218 - acc: 0.9953 - val_loss: 0.1769 - val_acc: 0.9658\n",
      "Epoch 5/20\n",
      "214/214 [==============================] - 56s 262ms/step - loss: 0.0248 - acc: 0.9913 - val_loss: 0.2647 - val_acc: 0.9215\n"
     ]
    }
   ],
   "source": [
    "func1('glorot_uniform', 'zeros', None, None,1.1,20)"
   ]
  },
  {
   "cell_type": "code",
   "execution_count": 21,
   "metadata": {
    "colab": {
     "base_uri": "https://localhost:8080/",
     "height": 326
    },
    "colab_type": "code",
    "id": "syGDUXC9dquO",
    "outputId": "49f7ac01-eac4-4db8-826e-b195e6784416"
   },
   "outputs": [
    {
     "name": "stderr",
     "output_type": "stream",
     "text": [
      "/usr/local/lib/python3.6/dist-packages/keras_applications/mobilenet.py:208: UserWarning: MobileNet shape is undefined. Weights for input shape (224, 224) will be loaded.\n",
      "  warnings.warn('MobileNet shape is undefined.'\n"
     ]
    },
    {
     "name": "stdout",
     "output_type": "stream",
     "text": [
      "Epoch 1/20\n",
      "214/214 [==============================] - 69s 324ms/step - loss: 0.0820 - acc: 0.9793 - val_loss: 0.2620 - val_acc: 0.9468\n",
      "Epoch 2/20\n",
      "214/214 [==============================] - 52s 244ms/step - loss: 0.0658 - acc: 0.9852 - val_loss: 9.7779e-04 - val_acc: 0.9996\n",
      "Epoch 3/20\n",
      "214/214 [==============================] - 52s 244ms/step - loss: 0.0015 - acc: 0.9996 - val_loss: 1.2325e-06 - val_acc: 1.0000\n",
      "Epoch 4/20\n",
      "214/214 [==============================] - 52s 245ms/step - loss: 3.7721e-05 - acc: 1.0000 - val_loss: 3.6633e-07 - val_acc: 1.0000\n",
      "Epoch 5/20\n",
      "214/214 [==============================] - 52s 245ms/step - loss: 0.0845 - acc: 0.9798 - val_loss: 0.0886 - val_acc: 0.9752\n",
      "Epoch 6/20\n",
      "214/214 [==============================] - 52s 244ms/step - loss: 3.6070e-04 - acc: 1.0000 - val_loss: 6.3151e-06 - val_acc: 1.0000\n",
      "Epoch 7/20\n",
      "214/214 [==============================] - 52s 244ms/step - loss: 0.0114 - acc: 0.9982 - val_loss: 0.3850 - val_acc: 0.8829\n"
     ]
    },
    {
     "data": {
      "text/plain": [
       "<keras.callbacks.History at 0x7f6e8fe8c0b8>"
      ]
     },
     "execution_count": 21,
     "metadata": {
      "tags": []
     },
     "output_type": "execute_result"
    }
   ],
   "source": [
    "kini='RandomNormal'\n",
    "bini='zeros'\n",
    "kreg=None\n",
    "breg=None\n",
    "alpha=0.75\n",
    "ep=20\n",
    "\n",
    "base_model=keras.applications.mobilenet.MobileNet(weights='imagenet',include_top=False) \n",
    "  #imports the mobilenet model and discards the last neuron layer and uses the already trained weights\n",
    "\n",
    "x=base_model.output\n",
    "x=GlobalAveragePooling2D()(x)\n",
    "x=Dense(1024,activation='relu',kernel_initializer=kini, bias_initializer=bini, kernel_regularizer=kreg, bias_regularizer=breg )(x) #we add dense layers so that the model can learn more complex functions and classify for better results.\n",
    "preds=Dense(4,activation='softmax')(x) #final layer with softmax activation and 4 classes\n",
    "  \n",
    "model=Model(inputs=base_model.input,outputs=preds)\n",
    "model.compile(optimizer='Adam',loss='categorical_crossentropy',metrics=['accuracy'])\n",
    "step_size_train=train_generator.n//train_generator.batch_size\n",
    "step_size_validation=validation_generator.n//train_generator.batch_size\n",
    "model.fit_generator(generator=train_generator,\n",
    "                      validation_data=validation_generator,\n",
    "                      validation_steps=step_size_validation,\n",
    "                      steps_per_epoch=step_size_train,\n",
    "                      epochs=ep,\n",
    "                      callbacks=[EarlyStopping(monitor='val_loss', min_delta=0, patience=3, verbose=0, mode='auto', baseline=None, restore_best_weights=True)]\n",
    "                     )\n"
   ]
  },
  {
   "cell_type": "code",
   "execution_count": 22,
   "metadata": {
    "colab": {
     "base_uri": "https://localhost:8080/",
     "height": 51
    },
    "colab_type": "code",
    "id": "m1Sf5WnKylne",
    "outputId": "ef181bfc-1a25-4c8e-8c66-79aacec9a416"
   },
   "outputs": [
    {
     "name": "stdout",
     "output_type": "stream",
     "text": [
      "['loss', 'acc']\n",
      "[0.0032685854725554736, 0.9980053191489362]\n"
     ]
    }
   ],
   "source": [
    "print(model.metrics_names)\n",
    "#evaluate_generator(generator, steps=None, callbacks=None, max_queue_size=10, workers=1, use_multiprocessing=False, verbose=0)\n",
    "print(model.evaluate_generator(generator=test_generator,steps=test_generator.n//test_generator.batch_size))"
   ]
  },
  {
   "cell_type": "code",
   "execution_count": 17,
   "metadata": {
    "colab": {
     "base_uri": "https://localhost:8080/",
     "height": 530
    },
    "colab_type": "code",
    "id": "cqEssGFiplvE",
    "outputId": "35b20143-94ab-4bba-c86a-b78050036c4e"
   },
   "outputs": [
    {
     "name": "stderr",
     "output_type": "stream",
     "text": [
      "/usr/local/lib/python3.6/dist-packages/keras_applications/mobilenet.py:208: UserWarning: MobileNet shape is undefined. Weights for input shape (224, 224) will be loaded.\n",
      "  warnings.warn('MobileNet shape is undefined.'\n"
     ]
    },
    {
     "name": "stdout",
     "output_type": "stream",
     "text": [
      "Epoch 1/20\n",
      "214/214 [==============================] - 63s 292ms/step - loss: 0.4676 - acc: 0.9527 - val_loss: 2.3899 - val_acc: 0.7955\n",
      "Epoch 2/20\n",
      "214/214 [==============================] - 52s 241ms/step - loss: 0.0271 - acc: 0.9934 - val_loss: 0.0039 - val_acc: 0.9987\n",
      "Epoch 3/20\n",
      "214/214 [==============================] - 52s 241ms/step - loss: 0.0192 - acc: 0.9953 - val_loss: 2.2186 - val_acc: 0.5741\n",
      "Epoch 4/20\n",
      "214/214 [==============================] - 52s 242ms/step - loss: 0.0168 - acc: 0.9947 - val_loss: 0.0207 - val_acc: 0.9916\n",
      "Epoch 5/20\n",
      "214/214 [==============================] - 52s 241ms/step - loss: 0.0236 - acc: 0.9940 - val_loss: 6.6948e-05 - val_acc: 1.0000\n",
      "Epoch 6/20\n",
      "214/214 [==============================] - 52s 241ms/step - loss: 0.0099 - acc: 0.9969 - val_loss: 0.0023 - val_acc: 0.9996\n",
      "Epoch 7/20\n",
      "214/214 [==============================] - 52s 241ms/step - loss: 0.0011 - acc: 0.9994 - val_loss: 2.9094e-06 - val_acc: 1.0000\n",
      "Epoch 8/20\n",
      "214/214 [==============================] - 51s 240ms/step - loss: 2.0802e-04 - acc: 1.0000 - val_loss: 1.4420e-06 - val_acc: 1.0000\n",
      "Epoch 9/20\n",
      "214/214 [==============================] - 52s 241ms/step - loss: 2.1024e-05 - acc: 1.0000 - val_loss: 9.0431e-07 - val_acc: 1.0000\n",
      "Epoch 10/20\n",
      "214/214 [==============================] - 51s 240ms/step - loss: 6.7455e-05 - acc: 1.0000 - val_loss: 3.3235e-07 - val_acc: 1.0000\n",
      "Epoch 11/20\n",
      "214/214 [==============================] - 52s 241ms/step - loss: 0.0198 - acc: 0.9940 - val_loss: 1.5695 - val_acc: 0.8700\n",
      "Epoch 12/20\n",
      "214/214 [==============================] - 51s 241ms/step - loss: 0.0051 - acc: 0.9985 - val_loss: 0.0038 - val_acc: 0.9987\n",
      "Epoch 13/20\n",
      "214/214 [==============================] - 52s 241ms/step - loss: 0.0356 - acc: 0.9899 - val_loss: 1.0784 - val_acc: 0.8540\n"
     ]
    },
    {
     "data": {
      "text/plain": [
       "<keras.callbacks.History at 0x7f6e9d222a90>"
      ]
     },
     "execution_count": 17,
     "metadata": {
      "tags": []
     },
     "output_type": "execute_result"
    }
   ],
   "source": [
    "kini='glorot_uniform'\n",
    "bini='zeros'\n",
    "kreg=None\n",
    "breg=None\n",
    "alpha=1\n",
    "ep=20\n",
    "\n",
    "base_model=keras.applications.mobilenet.MobileNet(weights='imagenet',include_top=False) \n",
    "  #imports the mobilenet model and discards the last neuron layer and uses the already trained weights\n",
    "\n",
    "x=base_model.output\n",
    "x=GlobalAveragePooling2D()(x)\n",
    "x=Dense(1024,activation='relu',kernel_initializer=kini, bias_initializer=bini, kernel_regularizer=kreg, bias_regularizer=breg )(x) #we add dense layers so that the model can learn more complex functions and classify for better results.\n",
    "preds=Dense(4,activation='softmax')(x) #final layer with softmax activation and 4 classes\n",
    "  \n",
    "model=Model(inputs=base_model.input,outputs=preds)\n",
    "model.compile(optimizer='Adam',loss='categorical_crossentropy',metrics=['accuracy'])\n",
    "step_size_train=train_generator.n//train_generator.batch_size\n",
    "step_size_validation=validation_generator.n//train_generator.batch_size\n",
    "model.fit_generator(generator=train_generator,\n",
    "                      validation_data=validation_generator,\n",
    "                      validation_steps=step_size_validation,\n",
    "                      steps_per_epoch=step_size_train,\n",
    "                      epochs=ep,\n",
    "                      callbacks=[EarlyStopping(monitor='val_loss', min_delta=0, patience=3, verbose=0, mode='auto', baseline=None, restore_best_weights=True)]\n",
    "                     )\n"
   ]
  },
  {
   "cell_type": "code",
   "execution_count": 18,
   "metadata": {
    "colab": {
     "base_uri": "https://localhost:8080/",
     "height": 51
    },
    "colab_type": "code",
    "id": "XhZmSuzCp0Nf",
    "outputId": "927f07df-a7f8-444d-d814-9b84850f171b"
   },
   "outputs": [
    {
     "name": "stdout",
     "output_type": "stream",
     "text": [
      "['loss', 'acc']\n",
      "[0.0006312949559770384, 1.0]\n"
     ]
    }
   ],
   "source": [
    "print(model.metrics_names)\n",
    "#evaluate_generator(generator, steps=None, callbacks=None, max_queue_size=10, workers=1, use_multiprocessing=False, verbose=0)\n",
    "print(model.evaluate_generator(generator=test_generator,steps=test_generator.n//test_generator.batch_size))"
   ]
  },
  {
   "cell_type": "code",
   "execution_count": 24,
   "metadata": {
    "colab": {
     "base_uri": "https://localhost:8080/",
     "height": 768
    },
    "colab_type": "code",
    "id": "9rt8wO6NssPi",
    "outputId": "a53be43d-73f3-4fd5-f680-9bb2d5c0ce71"
   },
   "outputs": [
    {
     "name": "stderr",
     "output_type": "stream",
     "text": [
      "/usr/local/lib/python3.6/dist-packages/keras_applications/mobilenet.py:208: UserWarning: MobileNet shape is undefined. Weights for input shape (224, 224) will be loaded.\n",
      "  warnings.warn('MobileNet shape is undefined.'\n"
     ]
    },
    {
     "name": "stdout",
     "output_type": "stream",
     "text": [
      "Epoch 1/20\n",
      "214/214 [==============================] - 74s 344ms/step - loss: 0.0514 - acc: 0.9829 - val_loss: 2.0854e-04 - val_acc: 1.0000\n",
      "Epoch 2/20\n",
      "214/214 [==============================] - 53s 249ms/step - loss: 7.2327e-04 - acc: 1.0000 - val_loss: 1.0283e-04 - val_acc: 1.0000\n",
      "Epoch 3/20\n",
      "214/214 [==============================] - 53s 249ms/step - loss: 3.3654e-04 - acc: 1.0000 - val_loss: 3.0211e-05 - val_acc: 1.0000\n",
      "Epoch 4/20\n",
      "214/214 [==============================] - 53s 246ms/step - loss: 1.3843e-04 - acc: 1.0000 - val_loss: 1.9695e-05 - val_acc: 1.0000\n",
      "Epoch 5/20\n",
      "214/214 [==============================] - 53s 246ms/step - loss: 1.9018e-04 - acc: 1.0000 - val_loss: 1.4494e-05 - val_acc: 1.0000\n",
      "Epoch 6/20\n",
      "214/214 [==============================] - 53s 246ms/step - loss: 1.2768e-04 - acc: 1.0000 - val_loss: 1.0665e-05 - val_acc: 1.0000\n",
      "Epoch 7/20\n",
      "214/214 [==============================] - 53s 246ms/step - loss: 5.7005e-05 - acc: 1.0000 - val_loss: 5.0027e-06 - val_acc: 1.0000\n",
      "Epoch 8/20\n",
      "214/214 [==============================] - 53s 246ms/step - loss: 4.9354e-05 - acc: 1.0000 - val_loss: 3.2665e-06 - val_acc: 1.0000\n",
      "Epoch 9/20\n",
      "214/214 [==============================] - 53s 246ms/step - loss: 2.8031e-05 - acc: 1.0000 - val_loss: 2.3209e-06 - val_acc: 1.0000\n",
      "Epoch 10/20\n",
      "214/214 [==============================] - 53s 246ms/step - loss: 1.6866e-05 - acc: 1.0000 - val_loss: 1.6379e-06 - val_acc: 1.0000\n",
      "Epoch 11/20\n",
      "214/214 [==============================] - 53s 246ms/step - loss: 5.3350e-05 - acc: 1.0000 - val_loss: 2.0385e-06 - val_acc: 1.0000\n",
      "Epoch 12/20\n",
      "214/214 [==============================] - 53s 246ms/step - loss: 2.0711e-05 - acc: 1.0000 - val_loss: 1.1577e-06 - val_acc: 1.0000\n",
      "Epoch 13/20\n",
      "214/214 [==============================] - 53s 246ms/step - loss: 8.1310e-06 - acc: 1.0000 - val_loss: 9.0531e-07 - val_acc: 1.0000\n",
      "Epoch 14/20\n",
      "214/214 [==============================] - 53s 246ms/step - loss: 3.7254e-05 - acc: 1.0000 - val_loss: 1.2942e-06 - val_acc: 1.0000\n",
      "Epoch 15/20\n",
      "214/214 [==============================] - 53s 246ms/step - loss: 1.0165e-05 - acc: 1.0000 - val_loss: 8.3083e-07 - val_acc: 1.0000\n",
      "Epoch 16/20\n",
      "214/214 [==============================] - 52s 245ms/step - loss: 2.6953e-05 - acc: 1.0000 - val_loss: 8.7025e-07 - val_acc: 1.0000\n",
      "Epoch 17/20\n",
      "214/214 [==============================] - 53s 246ms/step - loss: 1.3457e-05 - acc: 1.0000 - val_loss: 4.4848e-07 - val_acc: 1.0000\n",
      "Epoch 18/20\n",
      "214/214 [==============================] - 52s 245ms/step - loss: 4.2772e-06 - acc: 1.0000 - val_loss: 3.4409e-07 - val_acc: 1.0000\n",
      "Epoch 19/20\n",
      "214/214 [==============================] - 53s 245ms/step - loss: 1.2137e-05 - acc: 1.0000 - val_loss: 2.9501e-07 - val_acc: 1.0000\n",
      "Epoch 20/20\n",
      "214/214 [==============================] - 52s 245ms/step - loss: 7.4888e-06 - acc: 1.0000 - val_loss: 2.6835e-07 - val_acc: 1.0000\n"
     ]
    },
    {
     "data": {
      "text/plain": [
       "<keras.callbacks.History at 0x7f6e89581470>"
      ]
     },
     "execution_count": 24,
     "metadata": {
      "tags": []
     },
     "output_type": "execute_result"
    }
   ],
   "source": [
    "kini='glorot_uniform'\n",
    "bini='zeros'\n",
    "kreg=None\n",
    "breg=None\n",
    "alpha=1\n",
    "ep=20\n",
    "\n",
    "base_model=keras.applications.mobilenet.MobileNet(weights='imagenet',include_top=False) \n",
    "  #imports the mobilenet model and discards the last neuron layer and uses the already trained weights\n",
    "\n",
    "x=base_model.output\n",
    "x=GlobalAveragePooling2D()(x)\n",
    "x=Dense(1024,activation='relu',kernel_initializer=kini, bias_initializer=bini, kernel_regularizer=kreg, bias_regularizer=breg )(x) #we add dense layers so that the model can learn more complex functions and classify for better results.\n",
    "preds=Dense(4,activation='softmax')(x) #final layer with softmax activation and 4 classes\n",
    "  \n",
    "model=Model(inputs=base_model.input,outputs=preds)\n",
    "model.compile(optimizer=Adam(lr=0.0001),loss='categorical_crossentropy',metrics=['accuracy'])\n",
    "step_size_train=train_generator.n//train_generator.batch_size\n",
    "step_size_validation=validation_generator.n//train_generator.batch_size\n",
    "model.fit_generator(generator=train_generator,\n",
    "                      validation_data=validation_generator,\n",
    "                      validation_steps=step_size_validation,\n",
    "                      steps_per_epoch=step_size_train,\n",
    "                      epochs=ep,\n",
    "                      callbacks=[EarlyStopping(monitor='val_loss', min_delta=0, patience=3, verbose=0, mode='auto', baseline=None, restore_best_weights=True)]\n",
    "                     )"
   ]
  },
  {
   "cell_type": "code",
   "execution_count": 25,
   "metadata": {
    "colab": {
     "base_uri": "https://localhost:8080/",
     "height": 51
    },
    "colab_type": "code",
    "id": "lN0meyvFy5cF",
    "outputId": "3526a973-9521-42d9-bb88-4c06edd0f32c"
   },
   "outputs": [
    {
     "name": "stdout",
     "output_type": "stream",
     "text": [
      "['loss', 'acc']\n",
      "[0.003790959681868373, 0.9983377659574468]\n"
     ]
    }
   ],
   "source": [
    "print(model.metrics_names)\n",
    "#evaluate_generator(generator, steps=None, callbacks=None, max_queue_size=10, workers=1, use_multiprocessing=False, verbose=0)\n",
    "print(model.evaluate_generator(generator=test_generator,steps=test_generator.n//test_generator.batch_size))"
   ]
  },
  {
   "cell_type": "code",
   "execution_count": 0,
   "metadata": {
    "colab": {},
    "colab_type": "code",
    "id": "63nUAeAK4tYR"
   },
   "outputs": [],
   "source": []
  }
 ],
 "metadata": {
  "accelerator": "GPU",
  "colab": {
   "collapsed_sections": [],
   "name": "68.ipynb",
   "provenance": [],
   "version": "0.3.2"
  },
  "kernelspec": {
   "display_name": "Python 3 (ipykernel)",
   "language": "python",
   "name": "python3"
  },
  "language_info": {
   "codemirror_mode": {
    "name": "ipython",
    "version": 3
   },
   "file_extension": ".py",
   "mimetype": "text/x-python",
   "name": "python",
   "nbconvert_exporter": "python",
   "pygments_lexer": "ipython3",
   "version": "3.9.12"
  }
 },
 "nbformat": 4,
 "nbformat_minor": 1
}
